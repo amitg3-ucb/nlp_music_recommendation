{
 "cells": [
  {
   "cell_type": "markdown",
   "metadata": {
    "colab_type": "text"
   },
   "source": [
    "# lesson_2_DAN_CNN_Word2Vec_Embeddings_Classifier\n",
    "\n",
    "**Description:** Text classification on the IMDB movie dataset using i) Deep Averaging Networks, and ii) Convolutions Neural Nets (CNN) and pre-trained Word2Vec word embeddings.<br>\n",
    "\n",
    "Section 1 deals with setup and prerequisites, can does not deserve a lot of discussion. \n",
    "Data acquisition and preparation are handled in section 2, and section 3 looks at DANs and CNNs."
   ]
  },
  {
   "cell_type": "markdown",
   "metadata": {
    "colab_type": "text"
   },
   "source": [
    "## 1. Setup\n",
    "\n",
    "This notebook requires the tensorflow dataset and other prerequisites that you must download and then store locally. "
   ]
  },
  {
   "cell_type": "code",
   "execution_count": 1,
   "metadata": {},
   "outputs": [],
   "source": [
    "!pip install gensim==3.8.3 --quiet"
   ]
  },
  {
   "cell_type": "code",
   "execution_count": 2,
   "metadata": {},
   "outputs": [],
   "source": [
    "!pip install tensorflow-datasets --quiet"
   ]
  },
  {
   "cell_type": "code",
   "execution_count": 3,
   "metadata": {},
   "outputs": [],
   "source": [
    "!pip install -U tensorflow-text==2.8.2 --quiet"
   ]
  },
  {
   "cell_type": "markdown",
   "metadata": {},
   "source": [
    "pydot is also required, along with **graphviz**."
   ]
  },
  {
   "cell_type": "code",
   "execution_count": 4,
   "metadata": {},
   "outputs": [],
   "source": [
    "!pip install pydot --quiet"
   ]
  },
  {
   "cell_type": "markdown",
   "metadata": {},
   "source": [
    "Ready to do the imports."
   ]
  },
  {
   "cell_type": "code",
   "execution_count": 1,
   "metadata": {
    "colab_type": "code"
   },
   "outputs": [],
   "source": [
    "import numpy as np\n",
    "import tensorflow as tf\n",
    "from tensorflow import keras\n",
    "\n",
    "from tensorflow.keras.layers import Embedding, Input, Dense, Lambda\n",
    "from tensorflow.keras.models import Model\n",
    "import tensorflow.keras.backend as K\n",
    "import tensorflow_datasets as tfds\n",
    "import tensorflow_text as tf_text\n",
    "\n",
    "\n",
    "import sklearn as sk\n",
    "import os\n",
    "import nltk\n",
    "from nltk.corpus import reuters\n",
    "from nltk.data import find\n",
    "\n",
    "import matplotlib.pyplot as plt\n",
    "\n",
    "import re\n",
    "\n",
    "#This continues to work with gensim 3.8.3.  It doesn't yet work with 4.x.  \n",
    "#Make sure your pip install command specifies gensim==3.8.3\n",
    "import gensim\n",
    "\n",
    "import numpy as np"
   ]
  },
  {
   "cell_type": "markdown",
   "metadata": {},
   "source": [
    "Below is a helper function to plot histories."
   ]
  },
  {
   "cell_type": "code",
   "execution_count": 2,
   "metadata": {},
   "outputs": [],
   "source": [
    "# 4-window plot. Small modification from matplotlib examples.\n",
    "\n",
    "def make_plot(axs, history1, \n",
    "              history2, \n",
    "              y_lim_loss_lower=0.4, \n",
    "              y_lim_loss_upper=0.6,\n",
    "              y_lim_accuracy_lower=0.7, \n",
    "              y_lim_accuracy_upper=0.8,\n",
    "              model_1_name='model 1',\n",
    "              model_2_name='model 2',\n",
    "              \n",
    "             ):\n",
    "    box = dict(facecolor='yellow', pad=5, alpha=0.2)\n",
    "\n",
    "    ax1 = axs[0, 0]\n",
    "    ax1.plot(history1.history['loss'])\n",
    "    ax1.plot(history1.history['val_loss'])\n",
    "    ax1.set_title('loss - ' + model_1_name)\n",
    "    ax1.set_ylabel('loss', bbox=box)\n",
    "    ax1.set_ylim(y_lim_loss_lower, y_lim_loss_upper)\n",
    "\n",
    "    ax3 = axs[1, 0]\n",
    "    ax3.set_title('accuracy - ' + model_1_name)\n",
    "    ax3.plot(history1.history['accuracy'])\n",
    "    ax3.plot(history1.history['val_accuracy'])\n",
    "    ax3.set_ylabel('accuracy', bbox=box)\n",
    "    ax3.set_ylim(y_lim_accuracy_lower, y_lim_accuracy_upper)\n",
    "\n",
    "\n",
    "    ax2 = axs[0, 1]\n",
    "    ax2.set_title('loss - ' + model_2_name)\n",
    "    ax2.plot(history2.history['loss'])\n",
    "    ax2.plot(history2.history['val_loss'])\n",
    "    ax2.set_ylim(y_lim_loss_lower, y_lim_loss_upper)\n",
    "\n",
    "    ax4 = axs[1, 1]\n",
    "    ax4.set_title('accuracy - ' + model_2_name)\n",
    "    ax4.plot(history2.history['accuracy'])\n",
    "    ax4.plot(history2.history['val_accuracy'])\n",
    "    ax4.set_ylim(y_lim_accuracy_lower, y_lim_accuracy_upper)"
   ]
  },
  {
   "cell_type": "markdown",
   "metadata": {},
   "source": [
    "Next, we get the word2vec model from nltk."
   ]
  },
  {
   "cell_type": "code",
   "execution_count": 3,
   "metadata": {},
   "outputs": [
    {
     "name": "stderr",
     "output_type": "stream",
     "text": [
      "[nltk_data] Downloading package word2vec_sample to\n",
      "[nltk_data]     C:\\Users\\AGatt\\AppData\\Roaming\\nltk_data...\n",
      "[nltk_data]   Package word2vec_sample is already up-to-date!\n"
     ]
    },
    {
     "data": {
      "text/plain": [
       "True"
      ]
     },
     "execution_count": 3,
     "metadata": {},
     "output_type": "execute_result"
    }
   ],
   "source": [
    "nltk.download('word2vec_sample')"
   ]
  },
  {
   "cell_type": "code",
   "execution_count": 4,
   "metadata": {},
   "outputs": [],
   "source": [
    "word2vec_sample = str(find('models/word2vec_sample/pruned.word2vec.txt'))"
   ]
  },
  {
   "cell_type": "code",
   "execution_count": 5,
   "metadata": {},
   "outputs": [],
   "source": [
    "model = gensim.models.KeyedVectors.load_word2vec_format(word2vec_sample, binary=False)"
   ]
  },
  {
   "cell_type": "markdown",
   "metadata": {},
   "source": [
    "How many words are in the vocabulary?"
   ]
  },
  {
   "cell_type": "code",
   "execution_count": 6,
   "metadata": {},
   "outputs": [
    {
     "data": {
      "text/plain": [
       "43981"
      ]
     },
     "execution_count": 6,
     "metadata": {},
     "output_type": "execute_result"
    }
   ],
   "source": [
    "len(model.vocab)"
   ]
  },
  {
   "cell_type": "markdown",
   "metadata": {},
   "source": [
    "How do the word vectors look like? As expected:"
   ]
  },
  {
   "cell_type": "code",
   "execution_count": 7,
   "metadata": {},
   "outputs": [
    {
     "data": {
      "text/plain": [
       "array([ 3.06035e-02,  8.86877e-02, -1.21269e-02,  7.61965e-02,\n",
       "        5.66269e-02, -4.24702e-02,  4.10129e-02, -4.97567e-02,\n",
       "       -3.64328e-03,  6.32889e-02, -1.42608e-02, -7.91111e-02,\n",
       "        1.74877e-02, -3.83064e-02,  9.26433e-03,  2.95626e-02,\n",
       "        7.70293e-02,  9.49334e-02, -4.28866e-02, -2.95626e-02,\n",
       "        4.45244e-05,  6.82854e-02,  1.73836e-02,  3.14363e-02,\n",
       "        6.53708e-02,  2.89380e-02, -4.39275e-02,  1.78000e-02,\n",
       "        1.82164e-02, -4.70503e-02, -2.85216e-02,  1.79041e-02,\n",
       "        1.06592e-01,  9.07696e-02,  6.78690e-02,  6.16755e-03,\n",
       "       -2.08187e-02,  5.95936e-03,  1.51586e-03,  8.95205e-02,\n",
       "        6.49544e-02, -3.12281e-02,  9.24351e-02, -2.45661e-02,\n",
       "       -1.21269e-02, -1.53538e-03,  6.49544e-02, -1.12421e-02,\n",
       "        9.10819e-03, -6.45380e-02,  4.43439e-02,  1.35738e-01,\n",
       "       -7.91111e-02,  1.57181e-02, -4.72585e-02, -1.35322e-02,\n",
       "       -4.33029e-02, -5.16304e-02,  1.37404e-01, -3.12281e-02,\n",
       "       -6.49544e-02,  1.14087e-01, -6.41217e-02, -5.24632e-02,\n",
       "        4.60094e-02,  2.85216e-02, -9.10819e-03, -4.28866e-02,\n",
       "       -8.74386e-02,  5.01731e-02,  2.62316e-02,  2.89380e-02,\n",
       "        4.55930e-02, -3.28936e-02, -6.49544e-02, -1.80863e-03,\n",
       "       -6.20398e-02,  1.08257e-01,  2.05064e-02,  4.14293e-02,\n",
       "       -3.56521e-03,  4.80912e-02,  2.27965e-02,  7.65088e-03,\n",
       "       -2.40456e-02, -1.40735e-01, -4.16374e-02,  6.07907e-02,\n",
       "       -5.87088e-02,  9.42047e-03,  4.26784e-02, -2.43579e-02,\n",
       "       -6.66199e-02, -2.71945e-03, -3.99719e-02, -1.99860e-02,\n",
       "        3.66409e-02,  1.30742e-01, -4.74667e-02, -8.28585e-02,\n",
       "       -8.86877e-02,  3.45591e-02, -1.79041e-02, -3.53918e-02,\n",
       "       -4.43439e-02,  1.24912e-01,  1.02012e-02, -1.64468e-02,\n",
       "        1.51977e-02, -4.47602e-02, -2.78971e-02,  1.19083e-01,\n",
       "       -4.95486e-02, -6.21959e-03,  1.64052e-01, -3.33099e-02,\n",
       "       -1.24912e-02, -5.78760e-02, -2.30047e-02, -2.34211e-02,\n",
       "       -3.45591e-02, -1.22830e-02,  3.56000e-02,  1.16585e-01,\n",
       "       -2.64398e-02, -2.04023e-02, -4.65819e-03, -4.85076e-02,\n",
       "       -4.68421e-02,  8.61895e-02, -5.49614e-02, -2.85216e-02,\n",
       "       -1.14087e-01,  4.10129e-02,  4.43439e-02, -7.24491e-02,\n",
       "        2.37333e-02,  6.57872e-02,  3.43509e-02,  9.36842e-02,\n",
       "       -9.70152e-02,  4.70503e-02, -3.46111e-03, -2.40456e-02,\n",
       "       -3.85146e-02, -3.31018e-02, -1.54059e-02,  1.54059e-02,\n",
       "        6.74526e-02, -6.66199e-02,  9.65989e-02,  1.21581e-01,\n",
       "       -2.35252e-02,  1.50728e-01, -5.14222e-02,  4.51766e-02,\n",
       "        1.32719e-02, -8.16094e-02, -9.86807e-02, -4.76749e-02,\n",
       "        1.01491e-03,  3.20608e-02, -5.49094e-03,  4.28866e-02,\n",
       "        1.89867e-01, -1.18250e-01,  2.85216e-02, -3.45591e-02,\n",
       "        2.72725e-02,  7.91111e-03, -4.74667e-02,  4.16374e-02,\n",
       "        8.78550e-02, -5.57942e-02,  1.02012e-02,  4.72585e-02,\n",
       "        3.43509e-02, -6.49544e-02,  2.06886e-03,  7.85907e-03,\n",
       "       -3.91392e-02, -1.02844e-01,  3.58082e-02, -4.28866e-02,\n",
       "       -6.57872e-02,  1.17626e-02, -6.99509e-02, -4.33029e-02,\n",
       "       -2.58933e-03,  5.69262e-04, -1.08257e-01,  1.34073e-01,\n",
       "        5.62105e-02, -5.62105e-02,  9.26433e-03, -6.66199e-02,\n",
       "       -6.24562e-02, -2.18597e-02, -5.14222e-02, -9.20187e-02,\n",
       "        1.32199e-02,  5.57942e-02,  4.14293e-02,  2.42018e-03,\n",
       "        9.42047e-03,  5.41287e-02, -5.30877e-03,  2.62316e-02,\n",
       "       -9.52456e-03,  1.06592e-01, -3.06035e-02,  6.74526e-02,\n",
       "       -3.10199e-02,  8.43158e-03,  3.77339e-03, -3.87228e-02,\n",
       "        1.54891e-01, -3.85146e-02,  1.03053e-02, -5.95936e-03,\n",
       "       -2.17556e-02,  1.02532e-02,  2.51126e-03, -4.35111e-02,\n",
       "       -3.77339e-03,  1.30117e-02, -3.33099e-02, -5.45450e-02,\n",
       "        1.64468e-02,  1.22310e-02, -9.74316e-02, -5.33480e-03,\n",
       "        6.57872e-02,  3.89310e-02,  4.49684e-02, -2.74807e-02,\n",
       "       -5.49614e-02, -4.35111e-02, -9.21228e-03, -1.40526e-02,\n",
       "        3.18526e-02,  1.61345e-02,  3.16445e-02, -5.28275e-03,\n",
       "       -1.99860e-02,  2.08187e-03,  4.41357e-02, -3.70573e-02,\n",
       "       -9.65989e-02, -1.08257e-01,  1.53018e-02,  1.89867e-01,\n",
       "        2.37333e-02,  6.78690e-02,  1.15752e-01, -4.62176e-02,\n",
       "        2.66480e-02, -2.38374e-02, -1.06592e-01, -6.62035e-02,\n",
       "       -2.91462e-02, -5.95415e-02, -6.78690e-02, -7.65088e-03,\n",
       "        9.05614e-03,  3.14363e-02,  5.57942e-02, -3.43509e-02,\n",
       "        1.27515e-02,  6.63597e-03, -7.07836e-02,  6.41217e-02,\n",
       "       -2.88860e-03,  4.31988e-03,  4.89240e-02, -6.32889e-02,\n",
       "       -1.95696e-02, -5.95415e-02, -7.41146e-02, -1.82164e-02,\n",
       "       -2.47743e-02,  2.22760e-02, -4.74667e-02,  3.60164e-02,\n",
       "       -1.08778e-02,  5.99579e-02, -7.74456e-02,  7.33860e-03,\n",
       "       -5.87088e-02, -6.29766e-03, -4.89240e-03,  2.74807e-02,\n",
       "       -1.23247e-01, -2.05064e-02, -8.49404e-02, -3.03953e-02,\n",
       "        2.74807e-02, -7.16164e-02, -8.90000e-03, -6.07907e-02],\n",
       "      dtype=float32)"
      ]
     },
     "execution_count": 7,
     "metadata": {},
     "output_type": "execute_result"
    }
   ],
   "source": [
    "model['great']"
   ]
  },
  {
   "cell_type": "markdown",
   "metadata": {},
   "source": [
    "We can now build the embedding matrix and a vocabulary dictionary:"
   ]
  },
  {
   "cell_type": "code",
   "execution_count": 8,
   "metadata": {},
   "outputs": [],
   "source": [
    "EMBEDDING_DIM = len(model['university'])      # we know... it's 300\n",
    "\n",
    "# initialize embedding matrix and word-to-id map:\n",
    "embedding_matrix = np.zeros((len(model.vocab.keys()) + 1, EMBEDDING_DIM))       \n",
    "vocab_dict = {}\n",
    "\n",
    "# build the embedding matrix and the word-to-id map:\n",
    "for i, word in enumerate(model.vocab.keys()):\n",
    "    embedding_vector = model[word]\n",
    "    if embedding_vector is not None:\n",
    "        # words not found in embedding index will be all-zeros.\n",
    "        embedding_matrix[i] = embedding_vector\n",
    "        vocab_dict[word] = i"
   ]
  },
  {
   "cell_type": "code",
   "execution_count": 11,
   "metadata": {},
   "outputs": [
    {
     "data": {
      "text/plain": [
       "array([[ 0.0891758 ,  0.121832  , -0.0671959 , ..., -0.0480419 ,\n",
       "        -0.0277889 ,  0.0872918 ],\n",
       "       [ 0.0526281 ,  0.013157  , -0.010104  , ...,  0.0209349 ,\n",
       "        -0.0537912 ,  0.0654217 ],\n",
       "       [ 0.0786419 ,  0.0373911 , -0.0131472 , ..., -0.00832253,\n",
       "        -0.00398034, -0.0825016 ],\n",
       "       ...,\n",
       "       [ 0.0887422 ,  0.0537124 ,  0.0467064 , ..., -0.0794009 ,\n",
       "         0.0945805 , -0.0361975 ],\n",
       "       [-0.011512  ,  0.0173624 , -0.0364862 , ..., -0.0425253 ,\n",
       "         0.0231499 , -0.014217  ],\n",
       "       [ 0.        ,  0.        ,  0.        , ...,  0.        ,\n",
       "         0.        ,  0.        ]])"
      ]
     },
     "execution_count": 11,
     "metadata": {},
     "output_type": "execute_result"
    }
   ],
   "source": [
    "embedding_matrix"
   ]
  },
  {
   "cell_type": "markdown",
   "metadata": {},
   "source": [
    "## 2. Creation of the Dataset\n",
    "\n",
    "### 2.1 Data Acquisition\n",
    "\n",
    "We will use the IMDB dataset delivered as part of the tensorflow-datasets library, and split into training and test sets. For expedience, we will limit ourselves in terms of train and test examples."
   ]
  },
  {
   "cell_type": "code",
   "execution_count": 12,
   "metadata": {},
   "outputs": [
    {
     "name": "stderr",
     "output_type": "stream",
     "text": [
      "Dl Completed...: 0 url [00:00, ? url/s]"
     ]
    },
    {
     "name": "stdout",
     "output_type": "stream",
     "text": [
      "\u001b[1mDownloading and preparing dataset Unknown size (download: Unknown size, generated: Unknown size, total: Unknown size) to C:\\Users\\AGatt\\tensorflow_datasets\\imdb_reviews\\plain_text\\1.0.0...\u001b[0m\n"
     ]
    },
    {
     "name": "stderr",
     "output_type": "stream",
     "text": [
      "Dl Size...: 100%|██████████| 80/80 [00:49<00:00,  1.62 MiB/s]rl]\n",
      "Dl Completed...: 100%|██████████| 1/1 [00:49<00:00, 49.45s/ url]\n",
      "                                                                        \r"
     ]
    },
    {
     "name": "stdout",
     "output_type": "stream",
     "text": [
      "\u001b[1mDataset imdb_reviews downloaded and prepared to C:\\Users\\AGatt\\tensorflow_datasets\\imdb_reviews\\plain_text\\1.0.0. Subsequent calls will reuse this data.\u001b[0m\n"
     ]
    }
   ],
   "source": [
    "train_data, test_data = tfds.load(\n",
    "    name=\"imdb_reviews\", \n",
    "    split=('train[:80%]', 'test[80%:]'),\n",
    "    as_supervised=True)"
   ]
  },
  {
   "cell_type": "code",
   "execution_count": 13,
   "metadata": {},
   "outputs": [],
   "source": [
    "train_examples_batch, train_labels_batch = next(iter(train_data.batch(30000)))\n",
    "test_examples_batch, test_labels_batch = next(iter(test_data.batch(5000)))\n",
    "#train_examples_batch"
   ]
  },
  {
   "cell_type": "code",
   "execution_count": 14,
   "metadata": {},
   "outputs": [
    {
     "data": {
      "text/plain": [
       "<tf.Tensor: shape=(2,), dtype=string, numpy=\n",
       "array([b'Mann photographs the Alberta Rocky Mountains in a superb fashion, and Jimmy Stewart and Walter Brennan give enjoyable performances as they always seem to do. <br /><br />But come on Hollywood - a Mountie telling the people of Dawson City, Yukon to elect themselves a marshal (yes a marshal!) and to enforce the law themselves, then gunfighters battling it out on the streets for control of the town? <br /><br />Nothing even remotely resembling that happened on the Canadian side of the border during the Klondike gold rush. Mr. Mann and company appear to have mistaken Dawson City for Deadwood, the Canadian North for the American Wild West.<br /><br />Canadian viewers be prepared for a Reefer Madness type of enjoyable howl with this ludicrous plot, or, to shake your head in disgust.',\n",
       "       b'This is the kind of film for a snowy Sunday afternoon when the rest of the world can go ahead with its own business as you descend into a big arm-chair and mellow for a couple of hours. Wonderful performances from Cher and Nicolas Cage (as always) gently row the plot along. There are no rapids to cross, no dangerous waters, just a warm and witty paddle through New York life at its best. A family film in every sense and one that deserves the praise it received.'],\n",
       "      dtype=object)>"
      ]
     },
     "execution_count": 14,
     "metadata": {},
     "output_type": "execute_result"
    }
   ],
   "source": [
    "train_examples_batch[2:4]"
   ]
  },
  {
   "cell_type": "raw",
   "metadata": {},
   "source": [
    "train_examples = np.array([x.decode('utf-8') for x in train_examples_batch.numpy()])\n",
    "test_examples = np.array([x.decode('utf-8') for x in test_examples_batch.numpy()])\n",
    "\n",
    "train_labels = train_labels_batch.numpy()\n",
    "test_labels = test_labels_batch.numpy()"
   ]
  },
  {
   "cell_type": "code",
   "execution_count": 15,
   "metadata": {},
   "outputs": [
    {
     "data": {
      "text/plain": [
       "<tf.Tensor: shape=(2,), dtype=int64, numpy=array([0, 1], dtype=int64)>"
      ]
     },
     "execution_count": 15,
     "metadata": {},
     "output_type": "execute_result"
    }
   ],
   "source": [
    "train_labels_batch[2:4]"
   ]
  },
  {
   "cell_type": "markdown",
   "metadata": {},
   "source": [
    "Next, we tokenize the data:"
   ]
  },
  {
   "cell_type": "code",
   "execution_count": 16,
   "metadata": {},
   "outputs": [],
   "source": [
    "tokenizer = tf_text.WhitespaceTokenizer()\n",
    "train_tokens = tokenizer.tokenize(train_examples_batch)\n",
    "test_tokens = tokenizer.tokenize(test_examples_batch)\n"
   ]
  },
  {
   "cell_type": "markdown",
   "metadata": {},
   "source": [
    "Does this look right?"
   ]
  },
  {
   "cell_type": "code",
   "execution_count": 17,
   "metadata": {},
   "outputs": [
    {
     "data": {
      "text/plain": [
       "<tf.Tensor: shape=(116,), dtype=string, numpy=\n",
       "array([b'This', b'was', b'an', b'absolutely', b'terrible', b'movie.',\n",
       "       b\"Don't\", b'be', b'lured', b'in', b'by', b'Christopher', b'Walken',\n",
       "       b'or', b'Michael', b'Ironside.', b'Both', b'are', b'great',\n",
       "       b'actors,', b'but', b'this', b'must', b'simply', b'be', b'their',\n",
       "       b'worst', b'role', b'in', b'history.', b'Even', b'their', b'great',\n",
       "       b'acting', b'could', b'not', b'redeem', b'this', b\"movie's\",\n",
       "       b'ridiculous', b'storyline.', b'This', b'movie', b'is', b'an',\n",
       "       b'early', b'nineties', b'US', b'propaganda', b'piece.', b'The',\n",
       "       b'most', b'pathetic', b'scenes', b'were', b'those', b'when',\n",
       "       b'the', b'Columbian', b'rebels', b'were', b'making', b'their',\n",
       "       b'cases', b'for', b'revolutions.', b'Maria', b'Conchita',\n",
       "       b'Alonso', b'appeared', b'phony,', b'and', b'her', b'pseudo-love',\n",
       "       b'affair', b'with', b'Walken', b'was', b'nothing', b'but', b'a',\n",
       "       b'pathetic', b'emotional', b'plug', b'in', b'a', b'movie', b'that',\n",
       "       b'was', b'devoid', b'of', b'any', b'real', b'meaning.', b'I',\n",
       "       b'am', b'disappointed', b'that', b'there', b'are', b'movies',\n",
       "       b'like', b'this,', b'ruining', b\"actor's\", b'like', b'Christopher',\n",
       "       b\"Walken's\", b'good', b'name.', b'I', b'could', b'barely', b'sit',\n",
       "       b'through', b'it.'], dtype=object)>"
      ]
     },
     "execution_count": 17,
     "metadata": {},
     "output_type": "execute_result"
    }
   ],
   "source": [
    "train_tokens[0]"
   ]
  },
  {
   "cell_type": "markdown",
   "metadata": {},
   "source": [
    "Yup... looks right. Of course we will need to take care of the encoding later."
   ]
  },
  {
   "cell_type": "markdown",
   "metadata": {},
   "source": [
    "### 2.2 Data Preparation\n",
    "\n",
    "For convenience, in this simple notebook we will define a maximum length and only keep the examples that are longer than that length."
   ]
  },
  {
   "cell_type": "code",
   "execution_count": 18,
   "metadata": {},
   "outputs": [],
   "source": [
    "MAX_SEQUENCE_LENGTH = 100"
   ]
  },
  {
   "cell_type": "markdown",
   "metadata": {},
   "source": [
    "Next, we define a simple function that converts the tokens above into the appropriate word2vec index values.   "
   ]
  },
  {
   "cell_type": "code",
   "execution_count": 19,
   "metadata": {},
   "outputs": [],
   "source": [
    "def sents_to_ids(token_list_list, label_list, num_examples=100000000):\n",
    "    \"\"\"\n",
    "    converting a list of strings to a list of lists of word ids\n",
    "    \"\"\"\n",
    "    text_ids = []\n",
    "    text_labels = []\n",
    "    example_count = 0\n",
    "    use_token_list_list = token_list_list[:num_examples]\n",
    "    for i, token_list in enumerate(use_token_list_list):\n",
    "        if i < num_examples:\n",
    "            try:\n",
    "                example = []\n",
    "                for token in list(token_list.numpy()):\n",
    "                    decoded = token.decode('utf-8').replace('.','').replace(',','').replace('!','')\n",
    "                    try:\n",
    "                        example.append(vocab_dict[decoded])\n",
    "                        \n",
    "                    except:\n",
    "                        example.append(43981)\n",
    "                if len(example) >= MAX_SEQUENCE_LENGTH:\n",
    "                    text_ids.append(example[:MAX_SEQUENCE_LENGTH])\n",
    "                    text_labels.append(label_list[i])\n",
    "                    if example_count % 5000 == 0:\n",
    "                        print('Examples processed: ', example_count)\n",
    "                    example_count += 1\n",
    "                else:\n",
    "                    pass\n",
    "            except:\n",
    "                pass\n",
    "\n",
    "    \n",
    "    print('Number of examples retained: ', example_count) \n",
    "    return (np.array(text_ids),   np.array(text_labels)) "
   ]
  },
  {
   "cell_type": "markdown",
   "metadata": {},
   "source": [
    "Now we can create training and test data that can be fed into the models of interest."
   ]
  },
  {
   "cell_type": "code",
   "execution_count": 20,
   "metadata": {},
   "outputs": [
    {
     "name": "stdout",
     "output_type": "stream",
     "text": [
      "Examples processed:  0\n",
      "Examples processed:  5000\n",
      "Examples processed:  10000\n",
      "Examples processed:  15000\n",
      "Number of examples retained:  17418\n",
      "Examples processed:  0\n",
      "Number of examples retained:  4329\n"
     ]
    }
   ],
   "source": [
    "train_input, train_input_labels = sents_to_ids(train_tokens, train_labels_batch)\n",
    "test_input, test_input_labels = sents_to_ids(test_tokens, test_labels_batch)"
   ]
  },
  {
   "cell_type": "markdown",
   "metadata": {},
   "source": [
    "Let's convince ourselves that the data looks correct:"
   ]
  },
  {
   "cell_type": "code",
   "execution_count": 28,
   "metadata": {},
   "outputs": [
    {
     "data": {
      "text/plain": [
       "array([[21531, 25272, 12291,  7427, 37254, 34710,  6891, 12917, 38232,\n",
       "        16915, 12929, 16182, 43981, 20526, 23487, 38195, 23807, 42958,\n",
       "        35058, 34177, 19123, 35029, 41270, 29275, 12917, 32597, 20659,\n",
       "          638, 16915, 26144,   174, 32597, 35058, 39971,  2326,  3636,\n",
       "        22434, 35029, 43981, 33922, 29168, 21531, 34710, 16908, 12291,\n",
       "        36880, 28137,  5376, 28038, 38341, 15402, 29155, 18063, 24951,\n",
       "        17433, 17595,  8856, 14193, 43981, 43248, 17433,  6290, 32597,\n",
       "         9001, 11511,  9337, 21807, 39168, 43981, 16856, 28070, 43981,\n",
       "        23245, 43981,  8889,  1331, 43981, 25272, 31976, 19123, 43981,\n",
       "        18063, 36309, 24099, 16915, 43981, 34710, 36633, 25272, 20413,\n",
       "        43981, 33458, 14926, 34194, 12139, 12289, 39617, 36633,  9483,\n",
       "        42958],\n",
       "       [12139,  7841, 19666, 31757, 43981, 17853, 25745, 15445, 33741,\n",
       "        19123, 35029, 16908, 21113, 21068, 43981, 43981,  5668, 43981,\n",
       "        33456,  4942, 34554, 33013,  1200, 27498, 43981, 18802, 20514,\n",
       "        14193, 43981, 43981, 23955, 14042, 15400, 43981, 25973, 32334,\n",
       "        20514, 35029,  7870, 12139, 17108, 25745, 43830, 14193, 28743,\n",
       "        25272, 24081, 15402, 17006,   222, 25272,  7490, 43981, 33994,\n",
       "        43981, 21583, 42659, 12375, 43981, 25574, 19123,  1331, 19870,\n",
       "         7816, 43981, 31696, 25272, 23801, 13877, 20526, 39028, 12139,\n",
       "        27101, 12139, 37939,  7841, 24998, 29109, 43981, 14193, 28743,\n",
       "        19123, 16266,  8017, 14193, 43099, 43981, 16909, 43981, 30811,\n",
       "        14042, 12375, 43981, 25574, 43981, 34511, 21851, 14087,  9370,\n",
       "        33458]])"
      ]
     },
     "execution_count": 28,
     "metadata": {},
     "output_type": "execute_result"
    }
   ],
   "source": [
    "train_input[:2]"
   ]
  },
  {
   "cell_type": "code",
   "execution_count": 29,
   "metadata": {},
   "outputs": [
    {
     "data": {
      "text/plain": [
       "array([0, 0], dtype=int64)"
      ]
     },
     "execution_count": 29,
     "metadata": {},
     "output_type": "execute_result"
    }
   ],
   "source": [
    "train_input_labels[:2]"
   ]
  },
  {
   "cell_type": "markdown",
   "metadata": {},
   "source": [
    "## 3. Modeling\n",
    "\n",
    "### 3.1 DAN Model\n",
    "\n",
    "Let us start by defining the embedding layer:"
   ]
  },
  {
   "cell_type": "code",
   "execution_count": 30,
   "metadata": {},
   "outputs": [],
   "source": [
    "dan_embedding_layer = Embedding(embedding_matrix.shape[0],\n",
    "                            embedding_matrix.shape[1],\n",
    "                            embeddings_initializer=tf.keras.initializers.Constant(embedding_matrix),\n",
    "                            input_length=MAX_SEQUENCE_LENGTH,\n",
    "                            trainable=False)"
   ]
  },
  {
   "cell_type": "code",
   "execution_count": 31,
   "metadata": {},
   "outputs": [],
   "source": [
    "dan_input_layer = tf.keras.layers.Input(shape=(MAX_SEQUENCE_LENGTH,), dtype='int64')"
   ]
  },
  {
   "cell_type": "code",
   "execution_count": 32,
   "metadata": {},
   "outputs": [],
   "source": [
    "dan_embeddings = dan_embedding_layer(dan_input_layer)"
   ]
  },
  {
   "cell_type": "code",
   "execution_count": 33,
   "metadata": {},
   "outputs": [],
   "source": [
    "dan_avg_input_embeddings = tf.keras.layers.Lambda(lambda x: K.mean(x, axis=1), name='averaging')(dan_embeddings)"
   ]
  },
  {
   "cell_type": "code",
   "execution_count": 34,
   "metadata": {},
   "outputs": [],
   "source": [
    "dan_hidden_out_1 = tf.keras.layers.Dense(100, activation='relu', name='hidden_1')(dan_avg_input_embeddings)\n",
    "dan_hidden_out_1 = tf.keras.layers.Dropout(0.5)(dan_hidden_out_1)\n",
    "dan_hidden_out_2 = tf.keras.layers.Dense(50, activation='relu', name='hidden_2')(dan_hidden_out_1)\n",
    "dan_hidden_out_2 = tf.keras.layers.Dropout(0.5)(dan_hidden_out_2)"
   ]
  },
  {
   "cell_type": "code",
   "execution_count": 35,
   "metadata": {},
   "outputs": [],
   "source": [
    "dan_classification = tf.keras.layers.Dense(1, \n",
    "                                           activation='sigmoid', \n",
    "                                           name='dan_classification')(dan_hidden_out_2)"
   ]
  },
  {
   "cell_type": "code",
   "execution_count": 36,
   "metadata": {},
   "outputs": [],
   "source": [
    "dan_model = tf.keras.models.Model(inputs=dan_input_layer, outputs=[dan_classification])"
   ]
  },
  {
   "cell_type": "code",
   "execution_count": 37,
   "metadata": {},
   "outputs": [],
   "source": [
    "dan_model.compile(loss='binary_crossentropy',\n",
    "                  optimizer=tf.keras.optimizers.Adam(learning_rate=0.001,\n",
    "                                                beta_1=0.9,\n",
    "                                                beta_2=0.999,\n",
    "                                                epsilon=1e-07,\n",
    "                                                amsgrad=False,\n",
    "                                                name='Adam'),\n",
    "                 metrics='accuracy')"
   ]
  },
  {
   "cell_type": "code",
   "execution_count": 38,
   "metadata": {},
   "outputs": [
    {
     "name": "stdout",
     "output_type": "stream",
     "text": [
      "Model: \"model\"\n",
      "_________________________________________________________________\n",
      " Layer (type)                Output Shape              Param #   \n",
      "=================================================================\n",
      " input_1 (InputLayer)        [(None, 100)]             0         \n",
      "                                                                 \n",
      " embedding (Embedding)       (None, 100, 300)          13194600  \n",
      "                                                                 \n",
      " averaging (Lambda)          (None, 300)               0         \n",
      "                                                                 \n",
      " hidden_1 (Dense)            (None, 100)               30100     \n",
      "                                                                 \n",
      " dropout (Dropout)           (None, 100)               0         \n",
      "                                                                 \n",
      " hidden_2 (Dense)            (None, 50)                5050      \n",
      "                                                                 \n",
      " dropout_1 (Dropout)         (None, 50)                0         \n",
      "                                                                 \n",
      " dan_classification (Dense)  (None, 1)                 51        \n",
      "                                                                 \n",
      "=================================================================\n",
      "Total params: 13,229,801\n",
      "Trainable params: 35,201\n",
      "Non-trainable params: 13,194,600\n",
      "_________________________________________________________________\n"
     ]
    }
   ],
   "source": [
    "dan_model.summary()"
   ]
  },
  {
   "cell_type": "code",
   "execution_count": 39,
   "metadata": {},
   "outputs": [
    {
     "name": "stdout",
     "output_type": "stream",
     "text": [
      "You must install pydot (`pip install pydot`) and install graphviz (see instructions at https://graphviz.gitlab.io/download/) for plot_model/model_to_dot to work.\n"
     ]
    }
   ],
   "source": [
    "keras.utils.plot_model(dan_model, show_shapes=True, dpi=90)"
   ]
  },
  {
   "cell_type": "markdown",
   "metadata": {},
   "source": [
    "Let's look at the predictions and labels before training. Do those make sense?"
   ]
  },
  {
   "cell_type": "code",
   "execution_count": 40,
   "metadata": {},
   "outputs": [
    {
     "name": "stdout",
     "output_type": "stream",
     "text": [
      "predictions:\n",
      " [[0.49612564]\n",
      " [0.49776784]\n",
      " [0.49874705]\n",
      " [0.49816078]\n",
      " [0.49891245]]\n",
      "\n",
      "\n",
      "labels:\n",
      " [0 0 0 1 0]\n"
     ]
    }
   ],
   "source": [
    "print('predictions:\\n', dan_model.predict(train_input[:5]))\n",
    "print('\\n\\nlabels:\\n', train_input_labels[:5])"
   ]
  },
  {
   "cell_type": "code",
   "execution_count": 41,
   "metadata": {},
   "outputs": [
    {
     "name": "stdout",
     "output_type": "stream",
     "text": [
      "Epoch 1/20\n",
      "545/545 [==============================] - 4s 6ms/step - loss: 0.6371 - accuracy: 0.6285 - val_loss: 0.5554 - val_accuracy: 0.7246\n",
      "Epoch 2/20\n",
      "545/545 [==============================] - 3s 5ms/step - loss: 0.5313 - accuracy: 0.7403 - val_loss: 0.5290 - val_accuracy: 0.7415\n",
      "Epoch 3/20\n",
      "545/545 [==============================] - 3s 5ms/step - loss: 0.5105 - accuracy: 0.7523 - val_loss: 0.5070 - val_accuracy: 0.7498\n",
      "Epoch 4/20\n",
      "545/545 [==============================] - 3s 5ms/step - loss: 0.5009 - accuracy: 0.7589 - val_loss: 0.5020 - val_accuracy: 0.7468\n",
      "Epoch 5/20\n",
      "545/545 [==============================] - 3s 6ms/step - loss: 0.4934 - accuracy: 0.7648 - val_loss: 0.4972 - val_accuracy: 0.7521\n",
      "Epoch 6/20\n",
      "545/545 [==============================] - 3s 6ms/step - loss: 0.4879 - accuracy: 0.7673 - val_loss: 0.4987 - val_accuracy: 0.7512\n",
      "Epoch 7/20\n",
      "545/545 [==============================] - 3s 5ms/step - loss: 0.4860 - accuracy: 0.7697 - val_loss: 0.4902 - val_accuracy: 0.7558\n",
      "Epoch 8/20\n",
      "545/545 [==============================] - 3s 5ms/step - loss: 0.4848 - accuracy: 0.7679 - val_loss: 0.4872 - val_accuracy: 0.7581\n",
      "Epoch 9/20\n",
      "545/545 [==============================] - 3s 5ms/step - loss: 0.4806 - accuracy: 0.7731 - val_loss: 0.4884 - val_accuracy: 0.7607\n",
      "Epoch 10/20\n",
      "545/545 [==============================] - 3s 5ms/step - loss: 0.4775 - accuracy: 0.7742 - val_loss: 0.4983 - val_accuracy: 0.7489\n",
      "Epoch 11/20\n",
      "545/545 [==============================] - 3s 5ms/step - loss: 0.4738 - accuracy: 0.7759 - val_loss: 0.4845 - val_accuracy: 0.7623\n",
      "Epoch 12/20\n",
      "545/545 [==============================] - 3s 5ms/step - loss: 0.4748 - accuracy: 0.7752 - val_loss: 0.4838 - val_accuracy: 0.7611\n",
      "Epoch 13/20\n",
      "545/545 [==============================] - 3s 5ms/step - loss: 0.4708 - accuracy: 0.7760 - val_loss: 0.4787 - val_accuracy: 0.7644\n",
      "Epoch 14/20\n",
      "545/545 [==============================] - 3s 5ms/step - loss: 0.4708 - accuracy: 0.7787 - val_loss: 0.4859 - val_accuracy: 0.7579\n",
      "Epoch 15/20\n",
      "545/545 [==============================] - 3s 6ms/step - loss: 0.4680 - accuracy: 0.7820 - val_loss: 0.4837 - val_accuracy: 0.7648\n",
      "Epoch 16/20\n",
      "545/545 [==============================] - 3s 6ms/step - loss: 0.4654 - accuracy: 0.7809 - val_loss: 0.4775 - val_accuracy: 0.7641\n",
      "Epoch 17/20\n",
      "545/545 [==============================] - 3s 5ms/step - loss: 0.4656 - accuracy: 0.7803 - val_loss: 0.4778 - val_accuracy: 0.7648\n",
      "Epoch 18/20\n",
      "545/545 [==============================] - 3s 6ms/step - loss: 0.4637 - accuracy: 0.7812 - val_loss: 0.4868 - val_accuracy: 0.7653\n",
      "Epoch 19/20\n",
      "545/545 [==============================] - 3s 5ms/step - loss: 0.4656 - accuracy: 0.7788 - val_loss: 0.4754 - val_accuracy: 0.7660\n",
      "Epoch 20/20\n",
      "545/545 [==============================] - 3s 5ms/step - loss: 0.4649 - accuracy: 0.7818 - val_loss: 0.4806 - val_accuracy: 0.7655\n"
     ]
    }
   ],
   "source": [
    "dan_history = dan_model.fit(train_input,\n",
    "                        train_input_labels,\n",
    "                        validation_data=(test_input, test_input_labels),\n",
    "                        batch_size=32,\n",
    "                        epochs=20\n",
    "             )"
   ]
  },
  {
   "cell_type": "markdown",
   "metadata": {},
   "source": [
    "Let's revisit the predictions. How is this?"
   ]
  },
  {
   "cell_type": "code",
   "execution_count": 42,
   "metadata": {},
   "outputs": [
    {
     "name": "stdout",
     "output_type": "stream",
     "text": [
      "predictions:\n",
      " [[0.00497311]\n",
      " [0.1250821 ]\n",
      " [0.58078873]\n",
      " [0.96863496]\n",
      " [0.4912943 ]]\n",
      "\n",
      "\n",
      "labels:\n",
      " [0 0 0 1 0]\n"
     ]
    }
   ],
   "source": [
    "print('predictions:\\n', dan_model.predict(train_input[:5]))\n",
    "print('\\n\\nlabels:\\n', train_input_labels[:5])"
   ]
  },
  {
   "cell_type": "markdown",
   "metadata": {},
   "source": [
    "That is roughly as expected!\n",
    "\n",
    "\n",
    "### 3.2. Averaging Network\n",
    "\n",
    "Let us now compare to an Averaging Network ('an' below) that forgos the hidden layer(s). Otherwise it is the same architecture. Therefore, we can simply copy most of the steps."
   ]
  },
  {
   "cell_type": "code",
   "execution_count": 43,
   "metadata": {},
   "outputs": [],
   "source": [
    "an_embedding_layer = Embedding(embedding_matrix.shape[0],\n",
    "                            embedding_matrix.shape[1],\n",
    "                            embeddings_initializer=tf.keras.initializers.Constant(embedding_matrix),\n",
    "                            input_length=MAX_SEQUENCE_LENGTH,\n",
    "                            trainable=False)\n",
    "\n",
    "\n"
   ]
  },
  {
   "cell_type": "code",
   "execution_count": 44,
   "metadata": {},
   "outputs": [
    {
     "name": "stdout",
     "output_type": "stream",
     "text": [
      "You must install pydot (`pip install pydot`) and install graphviz (see instructions at https://graphviz.gitlab.io/download/) for plot_model/model_to_dot to work.\n"
     ]
    }
   ],
   "source": [
    "# layer construction\n",
    "\n",
    "an_input_layer = tf.keras.layers.Input(shape=(MAX_SEQUENCE_LENGTH,), dtype='int64')\n",
    "\n",
    "an_embeddings = dan_embedding_layer(an_input_layer)\n",
    "\n",
    "an_avg_input_embeddings = tf.keras.layers.Lambda(lambda x: K.mean(x, axis=1), name='averaging')(an_embeddings)\n",
    "\n",
    "an_classification = tf.keras.layers.Dense(1, \n",
    "                                           activation='sigmoid', \n",
    "                                           name='dan_classification')(an_avg_input_embeddings)\n",
    "\n",
    "# model definition\n",
    "\n",
    "an_model = tf.keras.models.Model(inputs=an_input_layer, outputs=[an_classification])\n",
    "\n",
    "an_model.compile(loss='binary_crossentropy',\n",
    "                  optimizer=tf.keras.optimizers.Adam(learning_rate=0.001,\n",
    "                                                beta_1=0.9,\n",
    "                                                beta_2=0.999,\n",
    "                                                epsilon=1e-07,\n",
    "                                                amsgrad=False,\n",
    "                                                name='Adam'),\n",
    "                 metrics='accuracy')\n",
    "\n",
    "# visualization of model\n",
    "\n",
    "keras.utils.plot_model(an_model, show_shapes=True, dpi=90)"
   ]
  },
  {
   "cell_type": "code",
   "execution_count": 46,
   "metadata": {},
   "outputs": [
    {
     "name": "stdout",
     "output_type": "stream",
     "text": [
      "Epoch 1/50\n",
      "545/545 [==============================] - 2s 4ms/step - loss: 0.5797 - accuracy: 0.7308 - val_loss: 0.5916 - val_accuracy: 0.7106\n",
      "Epoch 2/50\n",
      "545/545 [==============================] - 2s 4ms/step - loss: 0.5769 - accuracy: 0.7315 - val_loss: 0.5890 - val_accuracy: 0.7129\n",
      "Epoch 3/50\n",
      "545/545 [==============================] - 2s 4ms/step - loss: 0.5740 - accuracy: 0.7315 - val_loss: 0.5872 - val_accuracy: 0.7124\n",
      "Epoch 4/50\n",
      "545/545 [==============================] - 2s 4ms/step - loss: 0.5713 - accuracy: 0.7354 - val_loss: 0.5842 - val_accuracy: 0.7163\n",
      "Epoch 5/50\n",
      "545/545 [==============================] - 2s 4ms/step - loss: 0.5687 - accuracy: 0.7356 - val_loss: 0.5817 - val_accuracy: 0.7196\n",
      "Epoch 6/50\n",
      "545/545 [==============================] - 2s 4ms/step - loss: 0.5662 - accuracy: 0.7371 - val_loss: 0.5799 - val_accuracy: 0.7186\n",
      "Epoch 7/50\n",
      "545/545 [==============================] - 2s 4ms/step - loss: 0.5638 - accuracy: 0.7389 - val_loss: 0.5781 - val_accuracy: 0.7203\n",
      "Epoch 8/50\n",
      "545/545 [==============================] - 3s 5ms/step - loss: 0.5615 - accuracy: 0.7387 - val_loss: 0.5756 - val_accuracy: 0.7205\n",
      "Epoch 9/50\n",
      "545/545 [==============================] - 3s 5ms/step - loss: 0.5594 - accuracy: 0.7407 - val_loss: 0.5735 - val_accuracy: 0.7240\n",
      "Epoch 10/50\n",
      "545/545 [==============================] - 3s 5ms/step - loss: 0.5572 - accuracy: 0.7425 - val_loss: 0.5716 - val_accuracy: 0.7246\n",
      "Epoch 11/50\n",
      "545/545 [==============================] - 3s 6ms/step - loss: 0.5552 - accuracy: 0.7420 - val_loss: 0.5701 - val_accuracy: 0.7233\n",
      "Epoch 12/50\n",
      "545/545 [==============================] - 3s 5ms/step - loss: 0.5532 - accuracy: 0.7430 - val_loss: 0.5681 - val_accuracy: 0.7263\n",
      "Epoch 13/50\n",
      "545/545 [==============================] - 3s 5ms/step - loss: 0.5513 - accuracy: 0.7437 - val_loss: 0.5665 - val_accuracy: 0.7256\n",
      "Epoch 14/50\n",
      "545/545 [==============================] - 2s 5ms/step - loss: 0.5494 - accuracy: 0.7458 - val_loss: 0.5655 - val_accuracy: 0.7235\n",
      "Epoch 15/50\n",
      "545/545 [==============================] - 3s 5ms/step - loss: 0.5477 - accuracy: 0.7468 - val_loss: 0.5633 - val_accuracy: 0.7277\n",
      "Epoch 16/50\n",
      "545/545 [==============================] - 3s 5ms/step - loss: 0.5460 - accuracy: 0.7474 - val_loss: 0.5618 - val_accuracy: 0.7293\n",
      "Epoch 17/50\n",
      "545/545 [==============================] - 3s 5ms/step - loss: 0.5444 - accuracy: 0.7469 - val_loss: 0.5606 - val_accuracy: 0.7274\n",
      "Epoch 18/50\n",
      "545/545 [==============================] - 3s 5ms/step - loss: 0.5428 - accuracy: 0.7481 - val_loss: 0.5599 - val_accuracy: 0.7279\n",
      "Epoch 19/50\n",
      "545/545 [==============================] - 2s 5ms/step - loss: 0.5413 - accuracy: 0.7482 - val_loss: 0.5579 - val_accuracy: 0.7295\n",
      "Epoch 20/50\n",
      "545/545 [==============================] - 3s 5ms/step - loss: 0.5397 - accuracy: 0.7485 - val_loss: 0.5564 - val_accuracy: 0.7300\n",
      "Epoch 21/50\n",
      "545/545 [==============================] - 2s 5ms/step - loss: 0.5382 - accuracy: 0.7486 - val_loss: 0.5555 - val_accuracy: 0.7313\n",
      "Epoch 22/50\n",
      "545/545 [==============================] - 3s 5ms/step - loss: 0.5369 - accuracy: 0.7499 - val_loss: 0.5540 - val_accuracy: 0.7330\n",
      "Epoch 23/50\n",
      "545/545 [==============================] - 3s 5ms/step - loss: 0.5356 - accuracy: 0.7496 - val_loss: 0.5532 - val_accuracy: 0.7307\n",
      "Epoch 24/50\n",
      "545/545 [==============================] - 3s 5ms/step - loss: 0.5343 - accuracy: 0.7500 - val_loss: 0.5517 - val_accuracy: 0.7339\n",
      "Epoch 25/50\n",
      "545/545 [==============================] - 2s 4ms/step - loss: 0.5330 - accuracy: 0.7500 - val_loss: 0.5506 - val_accuracy: 0.7330\n",
      "Epoch 26/50\n",
      "545/545 [==============================] - 2s 4ms/step - loss: 0.5319 - accuracy: 0.7516 - val_loss: 0.5497 - val_accuracy: 0.7341\n",
      "Epoch 27/50\n",
      "545/545 [==============================] - 3s 5ms/step - loss: 0.5307 - accuracy: 0.7521 - val_loss: 0.5489 - val_accuracy: 0.7313\n",
      "Epoch 28/50\n",
      "545/545 [==============================] - 2s 5ms/step - loss: 0.5295 - accuracy: 0.7523 - val_loss: 0.5485 - val_accuracy: 0.7304\n",
      "Epoch 29/50\n",
      "545/545 [==============================] - 2s 4ms/step - loss: 0.5284 - accuracy: 0.7526 - val_loss: 0.5468 - val_accuracy: 0.7334\n",
      "Epoch 30/50\n",
      "545/545 [==============================] - 2s 4ms/step - loss: 0.5273 - accuracy: 0.7532 - val_loss: 0.5464 - val_accuracy: 0.7332\n",
      "Epoch 31/50\n",
      "545/545 [==============================] - 3s 5ms/step - loss: 0.5263 - accuracy: 0.7540 - val_loss: 0.5456 - val_accuracy: 0.7327\n",
      "Epoch 32/50\n",
      "545/545 [==============================] - 3s 5ms/step - loss: 0.5253 - accuracy: 0.7550 - val_loss: 0.5441 - val_accuracy: 0.7341\n",
      "Epoch 33/50\n",
      "545/545 [==============================] - 3s 5ms/step - loss: 0.5243 - accuracy: 0.7550 - val_loss: 0.5433 - val_accuracy: 0.7343\n",
      "Epoch 34/50\n",
      "545/545 [==============================] - 3s 5ms/step - loss: 0.5233 - accuracy: 0.7562 - val_loss: 0.5424 - val_accuracy: 0.7357\n",
      "Epoch 35/50\n",
      "545/545 [==============================] - 3s 5ms/step - loss: 0.5225 - accuracy: 0.7562 - val_loss: 0.5417 - val_accuracy: 0.7357\n",
      "Epoch 36/50\n",
      "545/545 [==============================] - 2s 4ms/step - loss: 0.5214 - accuracy: 0.7561 - val_loss: 0.5408 - val_accuracy: 0.7367\n",
      "Epoch 37/50\n",
      "545/545 [==============================] - 3s 5ms/step - loss: 0.5206 - accuracy: 0.7569 - val_loss: 0.5401 - val_accuracy: 0.7362\n",
      "Epoch 38/50\n",
      "545/545 [==============================] - 3s 5ms/step - loss: 0.5197 - accuracy: 0.7578 - val_loss: 0.5396 - val_accuracy: 0.7364\n",
      "Epoch 39/50\n",
      "545/545 [==============================] - 2s 5ms/step - loss: 0.5188 - accuracy: 0.7558 - val_loss: 0.5390 - val_accuracy: 0.7362\n",
      "Epoch 40/50\n",
      "545/545 [==============================] - 2s 4ms/step - loss: 0.5180 - accuracy: 0.7570 - val_loss: 0.5381 - val_accuracy: 0.7380\n",
      "Epoch 41/50\n",
      "545/545 [==============================] - 3s 5ms/step - loss: 0.5172 - accuracy: 0.7584 - val_loss: 0.5373 - val_accuracy: 0.7394\n",
      "Epoch 42/50\n",
      "545/545 [==============================] - 3s 5ms/step - loss: 0.5164 - accuracy: 0.7578 - val_loss: 0.5369 - val_accuracy: 0.7378\n",
      "Epoch 43/50\n",
      "545/545 [==============================] - 3s 5ms/step - loss: 0.5156 - accuracy: 0.7587 - val_loss: 0.5361 - val_accuracy: 0.7390\n",
      "Epoch 44/50\n",
      "545/545 [==============================] - 3s 5ms/step - loss: 0.5150 - accuracy: 0.7593 - val_loss: 0.5358 - val_accuracy: 0.7374\n",
      "Epoch 45/50\n",
      "545/545 [==============================] - 2s 5ms/step - loss: 0.5141 - accuracy: 0.7589 - val_loss: 0.5347 - val_accuracy: 0.7385\n",
      "Epoch 46/50\n",
      "545/545 [==============================] - 2s 5ms/step - loss: 0.5135 - accuracy: 0.7598 - val_loss: 0.5341 - val_accuracy: 0.7385\n",
      "Epoch 47/50\n",
      "545/545 [==============================] - 2s 4ms/step - loss: 0.5128 - accuracy: 0.7606 - val_loss: 0.5336 - val_accuracy: 0.7394\n",
      "Epoch 48/50\n",
      "545/545 [==============================] - 3s 5ms/step - loss: 0.5121 - accuracy: 0.7601 - val_loss: 0.5334 - val_accuracy: 0.7390\n",
      "Epoch 49/50\n",
      "545/545 [==============================] - 2s 4ms/step - loss: 0.5115 - accuracy: 0.7600 - val_loss: 0.5325 - val_accuracy: 0.7399\n",
      "Epoch 50/50\n",
      "545/545 [==============================] - 2s 4ms/step - loss: 0.5109 - accuracy: 0.7597 - val_loss: 0.5320 - val_accuracy: 0.7410\n"
     ]
    }
   ],
   "source": [
    "an_history = an_model.fit(train_input,\n",
    "                        train_input_labels,\n",
    "                        validation_data=(test_input, test_input_labels),\n",
    "                        batch_size=32,\n",
    "                        epochs=50\n",
    "             )"
   ]
  },
  {
   "cell_type": "markdown",
   "metadata": {},
   "source": [
    "### 3.3. Suggestions for Further Experiments and A Comparison\n",
    "\n",
    "Here are some options for potential variations, some of which we may try in class:\n",
    "* remove the hidden layers\n",
    "* randomly initialize embedding matrix\n",
    "* enable/disable retraining of embedding matrix\n",
    "* vary dropout rates and dimensions\n",
    "* compare some of the above for varying amounts of training data\n",
    "\n",
    "All quite worth while...\n",
    "\n",
    "Below is a sample plot for two different models:"
   ]
  },
  {
   "cell_type": "code",
   "execution_count": 47,
   "metadata": {},
   "outputs": [
    {
     "data": {
      "image/png": "[encoded data removed]",
      "text/plain": [
       "<Figure size 1332x756 with 4 Axes>"
      ]
     },
     "metadata": {
      "needs_background": "light"
     },
     "output_type": "display_data"
    }
   ],
   "source": [
    "fig, axs = plt.subplots(2, 2)\n",
    "fig.subplots_adjust(left=0.2, wspace=0.6)\n",
    "make_plot(axs, \n",
    "          an_history, \n",
    "          dan_history, \n",
    "          model_1_name='an',\n",
    "         model_2_name='dan',\n",
    "         y_lim_accuracy_lower=0.62,\n",
    "         y_lim_accuracy_upper=0.82)\n",
    "\n",
    "fig.align_ylabels(axs[:, 1])\n",
    "fig.set_size_inches(18.5, 10.5)\n",
    "plt.show()"
   ]
  },
  {
   "cell_type": "markdown",
   "metadata": {},
   "source": [
    "Of course, the avergaing network is not done training."
   ]
  },
  {
   "cell_type": "markdown",
   "metadata": {},
   "source": [
    "### 3.4 CNN Model"
   ]
  },
  {
   "cell_type": "code",
   "execution_count": 48,
   "metadata": {},
   "outputs": [],
   "source": [
    "cnn_embedding_layer = Embedding(embedding_matrix.shape[0],\n",
    "                            embedding_matrix.shape[1],\n",
    "                            embeddings_initializer=tf.keras.initializers.Constant(embedding_matrix),\n",
    "                            input_length=MAX_SEQUENCE_LENGTH,\n",
    "                            trainable=False)"
   ]
  },
  {
   "cell_type": "code",
   "execution_count": 49,
   "metadata": {},
   "outputs": [],
   "source": [
    "# Specify model hyperparameters.\n",
    "epochs = 10\n",
    "num_filters = [100, 100, 50, 25]\n",
    "kernel_sizes = [3, 5, 10, 20]\n",
    "dense_layer_dims = [100, 30]\n",
    "dropout_rate = 0.5"
   ]
  },
  {
   "cell_type": "code",
   "execution_count": 50,
   "metadata": {},
   "outputs": [],
   "source": [
    "cnn_input_layer = tf.keras.layers.Input(shape=(MAX_SEQUENCE_LENGTH,), dtype='int64')"
   ]
  },
  {
   "cell_type": "code",
   "execution_count": 51,
   "metadata": {},
   "outputs": [],
   "source": [
    "cnn_embeddings = cnn_embedding_layer(cnn_input_layer)\n",
    "\n",
    "h = cnn_embeddings"
   ]
  },
  {
   "cell_type": "code",
   "execution_count": 52,
   "metadata": {},
   "outputs": [],
   "source": [
    "conv_layers_for_all_kernel_sizes = []\n",
    "for kernel_size, filters in zip(kernel_sizes, num_filters):\n",
    "    conv_layer = keras.layers.Conv1D(filters=filters, kernel_size=kernel_size, activation='relu')(h)\n",
    "    conv_layer = keras.layers.GlobalMaxPooling1D()(conv_layer)\n",
    "    conv_layers_for_all_kernel_sizes.append(conv_layer)"
   ]
  },
  {
   "cell_type": "code",
   "execution_count": 53,
   "metadata": {},
   "outputs": [],
   "source": [
    "h = keras.layers.concatenate(conv_layers_for_all_kernel_sizes, axis=1)"
   ]
  },
  {
   "cell_type": "code",
   "execution_count": 54,
   "metadata": {},
   "outputs": [],
   "source": [
    "h = keras.layers.Dropout(rate=dropout_rate)(h)"
   ]
  },
  {
   "cell_type": "code",
   "execution_count": 55,
   "metadata": {},
   "outputs": [],
   "source": [
    "for dense_layer_dim in dense_layer_dims:  \n",
    "    h = keras.layers.Dense(dense_layer_dim, activation='relu')(h)"
   ]
  },
  {
   "cell_type": "code",
   "execution_count": 56,
   "metadata": {},
   "outputs": [],
   "source": [
    "cnn_prediction = keras.layers.Dense(1, activation='sigmoid')(h)"
   ]
  },
  {
   "cell_type": "code",
   "execution_count": 57,
   "metadata": {},
   "outputs": [],
   "source": [
    "cnn_model = keras.Model(inputs=cnn_input_layer, outputs=cnn_prediction)\n",
    "cnn_model.compile(optimizer='adam',\n",
    "              loss='binary_crossentropy',  # From information theory notebooks.\n",
    "              metrics=['accuracy'])"
   ]
  },
  {
   "cell_type": "code",
   "execution_count": 58,
   "metadata": {},
   "outputs": [
    {
     "name": "stdout",
     "output_type": "stream",
     "text": [
      "Model: \"model_2\"\n",
      "__________________________________________________________________________________________________\n",
      " Layer (type)                   Output Shape         Param #     Connected to                     \n",
      "==================================================================================================\n",
      " input_3 (InputLayer)           [(None, 100)]        0           []                               \n",
      "                                                                                                  \n",
      " embedding_2 (Embedding)        (None, 100, 300)     13194600    ['input_3[0][0]']                \n",
      "                                                                                                  \n",
      " conv1d (Conv1D)                (None, 98, 100)      90100       ['embedding_2[0][0]']            \n",
      "                                                                                                  \n",
      " conv1d_1 (Conv1D)              (None, 96, 100)      150100      ['embedding_2[0][0]']            \n",
      "                                                                                                  \n",
      " conv1d_2 (Conv1D)              (None, 91, 50)       150050      ['embedding_2[0][0]']            \n",
      "                                                                                                  \n",
      " conv1d_3 (Conv1D)              (None, 81, 25)       150025      ['embedding_2[0][0]']            \n",
      "                                                                                                  \n",
      " global_max_pooling1d (GlobalMa  (None, 100)         0           ['conv1d[0][0]']                 \n",
      " xPooling1D)                                                                                      \n",
      "                                                                                                  \n",
      " global_max_pooling1d_1 (Global  (None, 100)         0           ['conv1d_1[0][0]']               \n",
      " MaxPooling1D)                                                                                    \n",
      "                                                                                                  \n",
      " global_max_pooling1d_2 (Global  (None, 50)          0           ['conv1d_2[0][0]']               \n",
      " MaxPooling1D)                                                                                    \n",
      "                                                                                                  \n",
      " global_max_pooling1d_3 (Global  (None, 25)          0           ['conv1d_3[0][0]']               \n",
      " MaxPooling1D)                                                                                    \n",
      "                                                                                                  \n",
      " concatenate (Concatenate)      (None, 275)          0           ['global_max_pooling1d[0][0]',   \n",
      "                                                                  'global_max_pooling1d_1[0][0]', \n",
      "                                                                  'global_max_pooling1d_2[0][0]', \n",
      "                                                                  'global_max_pooling1d_3[0][0]'] \n",
      "                                                                                                  \n",
      " dropout_2 (Dropout)            (None, 275)          0           ['concatenate[0][0]']            \n",
      "                                                                                                  \n",
      " dense (Dense)                  (None, 100)          27600       ['dropout_2[0][0]']              \n",
      "                                                                                                  \n",
      " dense_1 (Dense)                (None, 30)           3030        ['dense[0][0]']                  \n",
      "                                                                                                  \n",
      " dense_2 (Dense)                (None, 1)            31          ['dense_1[0][0]']                \n",
      "                                                                                                  \n",
      "==================================================================================================\n",
      "Total params: 13,765,536\n",
      "Trainable params: 570,936\n",
      "Non-trainable params: 13,194,600\n",
      "__________________________________________________________________________________________________\n"
     ]
    }
   ],
   "source": [
    "cnn_model.summary()"
   ]
  },
  {
   "cell_type": "markdown",
   "metadata": {},
   "source": [
    "The keras plot utility shows this probably a bit nicer:"
   ]
  },
  {
   "cell_type": "code",
   "execution_count": 59,
   "metadata": {},
   "outputs": [
    {
     "name": "stdout",
     "output_type": "stream",
     "text": [
      "You must install pydot (`pip install pydot`) and install graphviz (see instructions at https://graphviz.gitlab.io/download/) for plot_model/model_to_dot to work.\n"
     ]
    }
   ],
   "source": [
    "keras.utils.plot_model(cnn_model, show_shapes=True, dpi=90)"
   ]
  },
  {
   "cell_type": "code",
   "execution_count": 60,
   "metadata": {},
   "outputs": [
    {
     "name": "stdout",
     "output_type": "stream",
     "text": [
      "Epoch 1/5\n",
      "545/545 [==============================] - 56s 101ms/step - loss: 0.5678 - accuracy: 0.6845 - val_loss: 0.4497 - val_accuracy: 0.7868\n",
      "Epoch 2/5\n",
      "545/545 [==============================] - 58s 106ms/step - loss: 0.4351 - accuracy: 0.8018 - val_loss: 0.4339 - val_accuracy: 0.7956\n",
      "Epoch 3/5\n",
      "545/545 [==============================] - 59s 109ms/step - loss: 0.3660 - accuracy: 0.8360 - val_loss: 0.4247 - val_accuracy: 0.8009\n",
      "Epoch 4/5\n",
      "545/545 [==============================] - 59s 108ms/step - loss: 0.2995 - accuracy: 0.8744 - val_loss: 0.4601 - val_accuracy: 0.7879\n",
      "Epoch 5/5\n",
      "545/545 [==============================] - 60s 111ms/step - loss: 0.2380 - accuracy: 0.9034 - val_loss: 0.4884 - val_accuracy: 0.7990\n"
     ]
    }
   ],
   "source": [
    "cnn_history = cnn_model.fit(train_input,\n",
    "             np.array(train_input_labels),\n",
    "             validation_data=(test_input, np.array(test_input_labels)),\n",
    "             batch_size=32,\n",
    "              epochs=5\n",
    "             )"
   ]
  },
  {
   "cell_type": "markdown",
   "metadata": {},
   "source": [
    "Again, a lot of things can be varied and compared. In addition to some of the items mentioned above, here we can also consider:\n",
    "* number of filters \n",
    "* kernel sizes of filters\n",
    "* number of convolutional structures\n",
    "\n",
    "Below is a comparison of a CNN model with a DAN model: "
   ]
  },
  {
   "cell_type": "code",
   "execution_count": 61,
   "metadata": {},
   "outputs": [
    {
     "data": {
      "image/png": "[encoded data removed]",
      "text/plain": [
       "<Figure size 1332x756 with 4 Axes>"
      ]
     },
     "metadata": {
      "needs_background": "light"
     },
     "output_type": "display_data"
    }
   ],
   "source": [
    "fig, axs = plt.subplots(2, 2)\n",
    "fig.subplots_adjust(left=0.2, wspace=0.6)\n",
    "make_plot(axs, \n",
    "          dan_history, \n",
    "          cnn_history, \n",
    "          model_1_name='dan',\n",
    "         model_2_name='cnn',\n",
    "         y_lim_accuracy_lower=0.72,\n",
    "         y_lim_accuracy_upper=0.82)\n",
    "\n",
    "fig.align_ylabels(axs[:, 1])\n",
    "fig.set_size_inches(18.5, 10.5)\n",
    "plt.show()"
   ]
  },
  {
   "cell_type": "markdown",
   "metadata": {
    "colab_type": "text"
   },
   "source": [
    "You may want to check how the picture changes if you make the embeddings trainable...\n",
    "\n",
    "This finalized the discussions of DANs and CNNs.\n",
    "\n",
    "Over the next 2 weeks we will first add RNNs and then also classification with BERT."
   ]
  },
  {
   "cell_type": "code",
   "execution_count": null,
   "metadata": {},
   "outputs": [],
   "source": []
  }
 ],
 "metadata": {
  "colab": {
   "collapsed_sections": [],
   "name": "pretrained_word_embeddings",
   "private_outputs": false,
   "provenance": [],
   "toc_visible": true
  },
  "interpreter": {
   "hash": "fd2c2f0dcf02236b8f8e7cb2d2b6fe0c0395f5b9994c9e36f1e1714498c96c74"
  },
  "kernelspec": {
   "display_name": "Python 3",
   "language": "python",
   "name": "python3"
  },
  "language_info": {
   "codemirror_mode": {
    "name": "ipython",
    "version": 3
   },
   "file_extension": ".py",
   "mimetype": "text/x-python",
   "name": "python",
   "nbconvert_exporter": "python",
   "pygments_lexer": "ipython3",
   "version": "3.8.8"
  }
 },
 "nbformat": 4,
 "nbformat_minor": 1
}
